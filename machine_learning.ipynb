{
 "metadata": {
  "language_info": {
   "codemirror_mode": {
    "name": "ipython",
    "version": 3
   },
   "file_extension": ".py",
   "mimetype": "text/x-python",
   "name": "python",
   "nbconvert_exporter": "python",
   "pygments_lexer": "ipython3",
   "version": "3.7.6-final"
  },
  "orig_nbformat": 2,
  "kernelspec": {
   "name": "python3",
   "display_name": "Python 3"
  }
 },
 "nbformat": 4,
 "nbformat_minor": 2,
 "cells": [
  {
   "cell_type": "code",
   "execution_count": 1,
   "metadata": {},
   "outputs": [],
   "source": [
    "%matplotlib inline\n",
    "import matplotlib.pyplot as plt\n",
    "import pandas as pd\n",
    "import os"
   ]
  },
  {
   "cell_type": "code",
   "execution_count": 3,
   "metadata": {},
   "outputs": [
    {
     "output_type": "execute_result",
     "data": {
      "text/plain": [
       "        Team  Season     Date    Vs   Score           Away Starter  \\\n",
       "0  Baltimore  2010.0  10/3/10   DET   L 2-4          Phil Coke (L)   \n",
       "1  Baltimore  2010.0  10/2/10   DET   W 2-1  Armando Galarraga (R)   \n",
       "2  Baltimore  2010.0  10/1/10   DET   W 2-1      Rick Porcello (R)   \n",
       "3  Baltimore  2010.0  10/1/10   DET  W 10-6   Jeremy Bonderman (R)   \n",
       "4  Baltimore  2010.0  9/29/10  @ TB   W 2-0     Kevin Millwood (R)   \n",
       "\n",
       "           Home Starter BAL Line         O/U  Unnamed: 9 FIELD Game Result  \\\n",
       "0  Bradley Bergesen (R)   L -155  U 8.5 -106         NaN  HOME           L   \n",
       "1      Brian Matusz (L)   W -155  U 8.5 -116         NaN  HOME           W   \n",
       "2    Jeremy Guthrie (R)   W -145    U 8 -106         NaN  HOME           W   \n",
       "3     Chris Tillman (R)   W -120     O 9 107         NaN  HOME           W   \n",
       "4      Jeff Niemann (R)    W 176    U 9 -107         NaN  AWAY           W   \n",
       "\n",
       "   Runs Scr  Runs Alw  Margin  Side Line O/U Result  O/U Line O/U Odds  \n",
       "0       2.0       4.0    -2.0     -155.0          U       8.5     -106  \n",
       "1       2.0       1.0     1.0     -155.0          U       8.5     -116  \n",
       "2       2.0       1.0     1.0     -145.0          U       8.0     -106  \n",
       "3      10.0       6.0     4.0     -120.0          O       9.0      107  \n",
       "4       2.0       0.0     2.0      176.0          U       9.0     -107  "
      ],
      "text/html": "<div>\n<style scoped>\n    .dataframe tbody tr th:only-of-type {\n        vertical-align: middle;\n    }\n\n    .dataframe tbody tr th {\n        vertical-align: top;\n    }\n\n    .dataframe thead th {\n        text-align: right;\n    }\n</style>\n<table border=\"1\" class=\"dataframe\">\n  <thead>\n    <tr style=\"text-align: right;\">\n      <th></th>\n      <th>Team</th>\n      <th>Season</th>\n      <th>Date</th>\n      <th>Vs</th>\n      <th>Score</th>\n      <th>Away Starter</th>\n      <th>Home Starter</th>\n      <th>BAL Line</th>\n      <th>O/U</th>\n      <th>Unnamed: 9</th>\n      <th>FIELD</th>\n      <th>Game Result</th>\n      <th>Runs Scr</th>\n      <th>Runs Alw</th>\n      <th>Margin</th>\n      <th>Side Line</th>\n      <th>O/U Result</th>\n      <th>O/U Line</th>\n      <th>O/U Odds</th>\n    </tr>\n  </thead>\n  <tbody>\n    <tr>\n      <th>0</th>\n      <td>Baltimore</td>\n      <td>2010.0</td>\n      <td>10/3/10</td>\n      <td>DET</td>\n      <td>L 2-4</td>\n      <td>Phil Coke (L)</td>\n      <td>Bradley Bergesen (R)</td>\n      <td>L -155</td>\n      <td>U 8.5 -106</td>\n      <td>NaN</td>\n      <td>HOME</td>\n      <td>L</td>\n      <td>2.0</td>\n      <td>4.0</td>\n      <td>-2.0</td>\n      <td>-155.0</td>\n      <td>U</td>\n      <td>8.5</td>\n      <td>-106</td>\n    </tr>\n    <tr>\n      <th>1</th>\n      <td>Baltimore</td>\n      <td>2010.0</td>\n      <td>10/2/10</td>\n      <td>DET</td>\n      <td>W 2-1</td>\n      <td>Armando Galarraga (R)</td>\n      <td>Brian Matusz (L)</td>\n      <td>W -155</td>\n      <td>U 8.5 -116</td>\n      <td>NaN</td>\n      <td>HOME</td>\n      <td>W</td>\n      <td>2.0</td>\n      <td>1.0</td>\n      <td>1.0</td>\n      <td>-155.0</td>\n      <td>U</td>\n      <td>8.5</td>\n      <td>-116</td>\n    </tr>\n    <tr>\n      <th>2</th>\n      <td>Baltimore</td>\n      <td>2010.0</td>\n      <td>10/1/10</td>\n      <td>DET</td>\n      <td>W 2-1</td>\n      <td>Rick Porcello (R)</td>\n      <td>Jeremy Guthrie (R)</td>\n      <td>W -145</td>\n      <td>U 8 -106</td>\n      <td>NaN</td>\n      <td>HOME</td>\n      <td>W</td>\n      <td>2.0</td>\n      <td>1.0</td>\n      <td>1.0</td>\n      <td>-145.0</td>\n      <td>U</td>\n      <td>8.0</td>\n      <td>-106</td>\n    </tr>\n    <tr>\n      <th>3</th>\n      <td>Baltimore</td>\n      <td>2010.0</td>\n      <td>10/1/10</td>\n      <td>DET</td>\n      <td>W 10-6</td>\n      <td>Jeremy Bonderman (R)</td>\n      <td>Chris Tillman (R)</td>\n      <td>W -120</td>\n      <td>O 9 107</td>\n      <td>NaN</td>\n      <td>HOME</td>\n      <td>W</td>\n      <td>10.0</td>\n      <td>6.0</td>\n      <td>4.0</td>\n      <td>-120.0</td>\n      <td>O</td>\n      <td>9.0</td>\n      <td>107</td>\n    </tr>\n    <tr>\n      <th>4</th>\n      <td>Baltimore</td>\n      <td>2010.0</td>\n      <td>9/29/10</td>\n      <td>@ TB</td>\n      <td>W 2-0</td>\n      <td>Kevin Millwood (R)</td>\n      <td>Jeff Niemann (R)</td>\n      <td>W 176</td>\n      <td>U 9 -107</td>\n      <td>NaN</td>\n      <td>AWAY</td>\n      <td>W</td>\n      <td>2.0</td>\n      <td>0.0</td>\n      <td>2.0</td>\n      <td>176.0</td>\n      <td>U</td>\n      <td>9.0</td>\n      <td>-107</td>\n    </tr>\n  </tbody>\n</table>\n</div>"
     },
     "metadata": {},
     "execution_count": 3
    }
   ],
   "source": [
    "stats = pd.read_csv(os.path.join(\"MLB_stats.csv\"))\n",
    "stats.head()"
   ]
  },
  {
   "cell_type": "code",
   "execution_count": 8,
   "metadata": {},
   "outputs": [
    {
     "output_type": "stream",
     "name": "stdout",
     "text": [
      "(58074, 18) (58074,)\n"
     ]
    }
   ],
   "source": [
    "# Assign X (data) and y (target)\n",
    "X = stats.drop(\"Game Result\", axis=1)\n",
    "y = stats[\"Game Result\"]\n",
    "print(X.shape, y.shape)"
   ]
  },
  {
   "cell_type": "code",
   "execution_count": 12,
   "metadata": {},
   "outputs": [],
   "source": [
    "from sklearn.model_selection import train_test_split\n",
    "\n",
    "X_train, X_test, y_train, y_test = train_test_split(X, y, random_state=1)"
   ]
  },
  {
   "cell_type": "code",
   "execution_count": 13,
   "metadata": {},
   "outputs": [
    {
     "output_type": "execute_result",
     "data": {
      "text/plain": [
       "LogisticRegression()"
      ]
     },
     "metadata": {},
     "execution_count": 13
    }
   ],
   "source": [
    "from sklearn.linear_model import LogisticRegression\n",
    "classifier = LogisticRegression()\n",
    "classifier"
   ]
  },
  {
   "cell_type": "code",
   "execution_count": null,
   "metadata": {},
   "outputs": [],
   "source": []
  }
 ]
}