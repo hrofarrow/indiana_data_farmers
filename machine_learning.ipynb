{
 "metadata": {
  "language_info": {
   "codemirror_mode": {
    "name": "ipython",
    "version": 3
   },
   "file_extension": ".py",
   "mimetype": "text/x-python",
   "name": "python",
   "nbconvert_exporter": "python",
   "pygments_lexer": "ipython3",
   "version": "3.7.6-final"
  },
  "orig_nbformat": 2,
  "kernelspec": {
   "name": "Python 3.7.6 64-bit ('base': conda)",
   "display_name": "Python 3.7.6 64-bit ('base': conda)",
   "metadata": {
    "interpreter": {
     "hash": "dca0ade3e726a953b501b15e8e990130d2b7799f14cfd9f4271676035ebe5511"
    }
   }
  }
 },
 "nbformat": 4,
 "nbformat_minor": 2,
 "cells": [
  {
   "cell_type": "code",
   "execution_count": 1,
   "metadata": {},
   "outputs": [],
   "source": [
    "%matplotlib inline\n",
    "import matplotlib.pyplot as plt\n",
    "import pandas as pd\n",
    "import os"
   ]
  },
  {
   "cell_type": "code",
   "execution_count": 2,
   "metadata": {},
   "outputs": [
    {
     "output_type": "execute_result",
     "data": {
      "text/plain": [
       "  FIELD Game Result  Side Line  O/U Line O/U_Odds Results on the ML  \\\n",
       "0     1           L     -155.0       8.5     -106            -$1.00   \n",
       "1     1           W     -155.0       8.5     -116             $1.65   \n",
       "2     1           W     -145.0       8.0     -106             $1.69   \n",
       "3     1           W     -120.0       9.0      107             $1.83   \n",
       "4     0           W      176.0       9.0     -107             $2.76   \n",
       "\n",
       "  Results on the Over Results on the Under  \n",
       "0              -$1.00                $1.94  \n",
       "1              -$1.00                $1.86  \n",
       "2              -$1.00                $1.94  \n",
       "3               $2.07               -$1.00  \n",
       "4              -$1.00                $1.93  "
      ],
      "text/html": "<div>\n<style scoped>\n    .dataframe tbody tr th:only-of-type {\n        vertical-align: middle;\n    }\n\n    .dataframe tbody tr th {\n        vertical-align: top;\n    }\n\n    .dataframe thead th {\n        text-align: right;\n    }\n</style>\n<table border=\"1\" class=\"dataframe\">\n  <thead>\n    <tr style=\"text-align: right;\">\n      <th></th>\n      <th>FIELD</th>\n      <th>Game Result</th>\n      <th>Side Line</th>\n      <th>O/U Line</th>\n      <th>O/U_Odds</th>\n      <th>Results on the ML</th>\n      <th>Results on the Over</th>\n      <th>Results on the Under</th>\n    </tr>\n  </thead>\n  <tbody>\n    <tr>\n      <th>0</th>\n      <td>1</td>\n      <td>L</td>\n      <td>-155.0</td>\n      <td>8.5</td>\n      <td>-106</td>\n      <td>-$1.00</td>\n      <td>-$1.00</td>\n      <td>$1.94</td>\n    </tr>\n    <tr>\n      <th>1</th>\n      <td>1</td>\n      <td>W</td>\n      <td>-155.0</td>\n      <td>8.5</td>\n      <td>-116</td>\n      <td>$1.65</td>\n      <td>-$1.00</td>\n      <td>$1.86</td>\n    </tr>\n    <tr>\n      <th>2</th>\n      <td>1</td>\n      <td>W</td>\n      <td>-145.0</td>\n      <td>8.0</td>\n      <td>-106</td>\n      <td>$1.69</td>\n      <td>-$1.00</td>\n      <td>$1.94</td>\n    </tr>\n    <tr>\n      <th>3</th>\n      <td>1</td>\n      <td>W</td>\n      <td>-120.0</td>\n      <td>9.0</td>\n      <td>107</td>\n      <td>$1.83</td>\n      <td>$2.07</td>\n      <td>-$1.00</td>\n    </tr>\n    <tr>\n      <th>4</th>\n      <td>0</td>\n      <td>W</td>\n      <td>176.0</td>\n      <td>9.0</td>\n      <td>-107</td>\n      <td>$2.76</td>\n      <td>-$1.00</td>\n      <td>$1.93</td>\n    </tr>\n  </tbody>\n</table>\n</div>"
     },
     "metadata": {},
     "execution_count": 2
    }
   ],
   "source": [
    "stats = pd.read_csv(os.path.join(\"csv/MLB DB V1 CSV.csv\"))\n",
    "stats.rename(columns={\"O/U Odds\": \"O/U_Odds\"}, inplace= True)\n",
    "\n",
    "stats.FIELD[stats.FIELD == 'HOME'] = 1\n",
    "stats.FIELD[stats.FIELD == 'AWAY'] = 0\n",
    "\n",
    "stats = stats.drop(columns = [\"Team\", \"Season\", \"Date\", \"Vs\", \"Score\", \"Away Starter\", \"Home Starter\", \"BAL Line\", \"O/U\", \"O/U Result\", \"Unnamed: 9\", \"Margin\", \"Runs Scr\", \"Runs Alw\"])\n",
    "\n",
    "stats= stats.dropna()\n",
    "\n",
    "stats.head()"
   ]
  },
  {
   "cell_type": "code",
   "execution_count": 207,
   "metadata": {},
   "outputs": [],
   "source": [
    "stats.drop(stats[stats[\"O/U_Odds\"] == \"9 -\"].index, inplace=True)\n",
    "stats.drop(stats[stats[\"O/U_Odds\"] == \"7 -\"].index, inplace=True)\n",
    "stats.drop(stats[stats[\"O/U_Odds\"] == \"8 -\"].index, inplace=True)\n",
    "stats.drop(stats[stats[\"O/U_Odds\"] == \"10 -\"].index, inplace=True)\n",
    "stats.drop(stats[stats[\"O/U_Odds\"] == \"11 -\"].index, inplace=True)\n",
    "stats.drop(stats[stats[\"O/U_Odds\"] == \"6 -\"].index, inplace=True)"
   ]
  },
  {
   "cell_type": "code",
   "execution_count": 208,
   "metadata": {},
   "outputs": [],
   "source": [
    "stats.FIELD[stats.FIELD == 'HOME'] = 1\n",
    "stats.FIELD[stats.FIELD == 'AWAY'] = 0"
   ]
  },
  {
   "cell_type": "code",
   "execution_count": 209,
   "metadata": {},
   "outputs": [
    {
     "output_type": "stream",
     "name": "stdout",
     "text": [
      "(4690, 4) (4690,)\n"
     ]
    }
   ],
   "source": [
    "# Assign X (data) and y (target)\n",
    "X = stats.drop(\"Game Result\", axis=1)\n",
    "y = stats[\"Game Result\"]\n",
    "print(X.shape, y.shape)"
   ]
  },
  {
   "cell_type": "code",
   "execution_count": 210,
   "metadata": {},
   "outputs": [],
   "source": [
    "from sklearn.model_selection import train_test_split\n",
    "\n",
    "X_train, X_test, y_train, y_test = train_test_split(X, y, random_state=1)"
   ]
  },
  {
   "cell_type": "code",
   "execution_count": 211,
   "metadata": {},
   "outputs": [
    {
     "output_type": "execute_result",
     "data": {
      "text/plain": [
       "LogisticRegression()"
      ]
     },
     "metadata": {},
     "execution_count": 211
    }
   ],
   "source": [
    "from sklearn.linear_model import LogisticRegression\n",
    "classifier = LogisticRegression()\n",
    "classifier"
   ]
  },
  {
   "cell_type": "code",
   "execution_count": 212,
   "metadata": {},
   "outputs": [
    {
     "output_type": "execute_result",
     "data": {
      "text/plain": [
       "LogisticRegression()"
      ]
     },
     "metadata": {},
     "execution_count": 212
    }
   ],
   "source": [
    "classifier.fit(X_train, y_train)"
   ]
  },
  {
   "cell_type": "code",
   "execution_count": 213,
   "metadata": {},
   "outputs": [
    {
     "output_type": "stream",
     "name": "stdout",
     "text": [
      "Training Data Score: 0.5769121410292863\nTesting Data Score: 0.5797101449275363\n"
     ]
    }
   ],
   "source": [
    "print(f\"Training Data Score: {classifier.score(X_train, y_train)}\")\n",
    "print(f\"Testing Data Score: {classifier.score(X_test, y_test)}\")"
   ]
  },
  {
   "cell_type": "code",
   "execution_count": 214,
   "metadata": {},
   "outputs": [
    {
     "output_type": "stream",
     "name": "stdout",
     "text": [
      "First 10 Predictions:   ['L' 'L' 'W' 'W' 'L' 'W' 'W' 'W' 'W' 'L']\nFirst 10 Actual labels: ['L', 'W', 'W', 'W', 'W', 'L', 'W', 'W', 'W', 'W']\n"
     ]
    }
   ],
   "source": [
    "predictions = classifier.predict(X_test)\n",
    "print(f\"First 10 Predictions:   {predictions[:10]}\")\n",
    "print(f\"First 10 Actual labels: {y_test[:10].tolist()}\")"
   ]
  },
  {
   "cell_type": "code",
   "execution_count": 215,
   "metadata": {},
   "outputs": [
    {
     "output_type": "execute_result",
     "data": {
      "text/plain": [
       "     Prediction Actual\n",
       "0             L      L\n",
       "1             L      W\n",
       "2             W      W\n",
       "3             W      W\n",
       "4             L      W\n",
       "...         ...    ...\n",
       "1168          W      W\n",
       "1169          L      L\n",
       "1170          W      W\n",
       "1171          L      L\n",
       "1172          W      W\n",
       "\n",
       "[1173 rows x 2 columns]"
      ],
      "text/html": "<div>\n<style scoped>\n    .dataframe tbody tr th:only-of-type {\n        vertical-align: middle;\n    }\n\n    .dataframe tbody tr th {\n        vertical-align: top;\n    }\n\n    .dataframe thead th {\n        text-align: right;\n    }\n</style>\n<table border=\"1\" class=\"dataframe\">\n  <thead>\n    <tr style=\"text-align: right;\">\n      <th></th>\n      <th>Prediction</th>\n      <th>Actual</th>\n    </tr>\n  </thead>\n  <tbody>\n    <tr>\n      <th>0</th>\n      <td>L</td>\n      <td>L</td>\n    </tr>\n    <tr>\n      <th>1</th>\n      <td>L</td>\n      <td>W</td>\n    </tr>\n    <tr>\n      <th>2</th>\n      <td>W</td>\n      <td>W</td>\n    </tr>\n    <tr>\n      <th>3</th>\n      <td>W</td>\n      <td>W</td>\n    </tr>\n    <tr>\n      <th>4</th>\n      <td>L</td>\n      <td>W</td>\n    </tr>\n    <tr>\n      <th>...</th>\n      <td>...</td>\n      <td>...</td>\n    </tr>\n    <tr>\n      <th>1168</th>\n      <td>W</td>\n      <td>W</td>\n    </tr>\n    <tr>\n      <th>1169</th>\n      <td>L</td>\n      <td>L</td>\n    </tr>\n    <tr>\n      <th>1170</th>\n      <td>W</td>\n      <td>W</td>\n    </tr>\n    <tr>\n      <th>1171</th>\n      <td>L</td>\n      <td>L</td>\n    </tr>\n    <tr>\n      <th>1172</th>\n      <td>W</td>\n      <td>W</td>\n    </tr>\n  </tbody>\n</table>\n<p>1173 rows × 2 columns</p>\n</div>"
     },
     "metadata": {},
     "execution_count": 215
    }
   ],
   "source": [
    "pd.DataFrame({\"Prediction\": predictions, \"Actual\": y_test}).reset_index(drop=True)"
   ]
  },
  {
   "cell_type": "code",
   "execution_count": 216,
   "metadata": {},
   "outputs": [],
   "source": [
    "stats.to_csv(r'C:\\Users\\Jackson\\Documents\\Bootcamp\\Final Project\\indiana_data_farmers\\Stats.csv', index = False) "
   ]
  }
 ]
}